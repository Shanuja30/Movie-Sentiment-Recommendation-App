{
 "cells": [
  {
   "cell_type": "code",
   "execution_count": 2,
   "id": "d1b5f64c-c7b8-4fac-9257-262df4176ba7",
   "metadata": {},
   "outputs": [],
   "source": [
    "import pandas as pd\n",
    "import numpy as np \n",
    "import matplotlib.pyplot as plt\n",
    "import seaborn as sns"
   ]
  },
  {
   "cell_type": "code",
   "execution_count": 3,
   "id": "0190c35a-728e-4590-956f-928eb3096ab5",
   "metadata": {},
   "outputs": [
    {
     "data": {
      "text/html": [
       "<div>\n",
       "<style scoped>\n",
       "    .dataframe tbody tr th:only-of-type {\n",
       "        vertical-align: middle;\n",
       "    }\n",
       "\n",
       "    .dataframe tbody tr th {\n",
       "        vertical-align: top;\n",
       "    }\n",
       "\n",
       "    .dataframe thead th {\n",
       "        text-align: right;\n",
       "    }\n",
       "</style>\n",
       "<table border=\"1\" class=\"dataframe\">\n",
       "  <thead>\n",
       "    <tr style=\"text-align: right;\">\n",
       "      <th></th>\n",
       "      <th>review</th>\n",
       "      <th>sentiment</th>\n",
       "    </tr>\n",
       "  </thead>\n",
       "  <tbody>\n",
       "    <tr>\n",
       "      <th>0</th>\n",
       "      <td>One of the other reviewers has mentioned that ...</td>\n",
       "      <td>positive</td>\n",
       "    </tr>\n",
       "    <tr>\n",
       "      <th>1</th>\n",
       "      <td>A wonderful little production. &lt;br /&gt;&lt;br /&gt;The...</td>\n",
       "      <td>positive</td>\n",
       "    </tr>\n",
       "    <tr>\n",
       "      <th>2</th>\n",
       "      <td>I thought this was a wonderful way to spend ti...</td>\n",
       "      <td>positive</td>\n",
       "    </tr>\n",
       "    <tr>\n",
       "      <th>3</th>\n",
       "      <td>Basically there's a family where a little boy ...</td>\n",
       "      <td>negative</td>\n",
       "    </tr>\n",
       "    <tr>\n",
       "      <th>4</th>\n",
       "      <td>Petter Mattei's \"Love in the Time of Money\" is...</td>\n",
       "      <td>positive</td>\n",
       "    </tr>\n",
       "  </tbody>\n",
       "</table>\n",
       "</div>"
      ],
      "text/plain": [
       "                                              review sentiment\n",
       "0  One of the other reviewers has mentioned that ...  positive\n",
       "1  A wonderful little production. <br /><br />The...  positive\n",
       "2  I thought this was a wonderful way to spend ti...  positive\n",
       "3  Basically there's a family where a little boy ...  negative\n",
       "4  Petter Mattei's \"Love in the Time of Money\" is...  positive"
      ]
     },
     "execution_count": 3,
     "metadata": {},
     "output_type": "execute_result"
    }
   ],
   "source": [
    "data = pd.read_csv(\"data/IMDB Dataset.csv\")\n",
    "data.head()"
   ]
  },
  {
   "cell_type": "markdown",
   "id": "ee6864c8-a73f-40a4-a1e9-41ddef18e53b",
   "metadata": {},
   "source": [
    "### understand the data"
   ]
  },
  {
   "cell_type": "code",
   "execution_count": 4,
   "id": "88dc0dfb-4b01-46b0-985e-f39337f13a86",
   "metadata": {},
   "outputs": [
    {
     "data": {
      "text/plain": [
       "review       0\n",
       "sentiment    0\n",
       "dtype: int64"
      ]
     },
     "execution_count": 4,
     "metadata": {},
     "output_type": "execute_result"
    }
   ],
   "source": [
    "data.isna().sum()"
   ]
  },
  {
   "cell_type": "code",
   "execution_count": 5,
   "id": "7f8fa1b7-51ad-4f2c-abce-83919f8586bd",
   "metadata": {},
   "outputs": [
    {
     "data": {
      "image/png": "[encoded data removed]",
      "text/plain": [
       "<Figure size 640x480 with 1 Axes>"
      ]
     },
     "metadata": {},
     "output_type": "display_data"
    }
   ],
   "source": [
    "import seaborn as sns\n",
    "import matplotlib.pyplot as plt\n",
    "\n",
    "# Vertical bar plot\n",
    "sns.countplot(x=data['sentiment'])\n",
    "plt.title('Distribution of Sentiments')\n",
    "plt.xlabel('Sentiment')\n",
    "plt.ylabel('Count')\n",
    "plt.show()"
   ]
  },
  {
   "cell_type": "code",
   "execution_count": 6,
   "id": "08bbc6dd-3b2d-461a-9342-4cc087bae76d",
   "metadata": {},
   "outputs": [
    {
     "data": {
      "text/plain": [
       "sentiment\n",
       "positive    25000\n",
       "negative    25000\n",
       "Name: count, dtype: int64"
      ]
     },
     "execution_count": 6,
     "metadata": {},
     "output_type": "execute_result"
    }
   ],
   "source": [
    "data[\"sentiment\"].value_counts()"
   ]
  },
  {
   "cell_type": "code",
   "execution_count": 7,
   "id": "57de260a-5b31-40b5-8684-b12f042b4bcd",
   "metadata": {},
   "outputs": [
    {
     "name": "stdout",
     "output_type": "stream",
     "text": [
      "When I started to watch this movie on VH-1 I cringed. The MTV movies were all bad so I wasnt expecting much. But this movie was really good. I liked it a lot. And it even had a twist at the end. See this movie because it shows that Made For TV movies that are good exist.\n",
      "Zombie Review #3<br /><br />**Spoilers**<br /><br />Few films are actually \"so bad they're good\", and Zombi 3 is not just bad, it's wretchedly, unforgivably bad in so many ways that a whole new language may be needed just to describe them all<br /><br />More than that, it's a film credited to Lucio Fulci that even by his standards has absolutely no coherency, sense or reason. However we can't blame Fulci as it wasn't really directed by him but by Bruno Mattei, who doesn't even have Fulci's sense of style to help carry the film. Mattei seems to have brought little to the film but staggering ineptitude.<br /><br />So, I'm ashamed to say how much I enjoyed every worthless minute of Zombi 3. It has no redeeming features - in a genre known for thin characters, weak story, and lack of film making skill, Zombi 3 pushes the boat out but in doing so it's even funnier than Nightmare City.<br /><br />The \"action\" starts when the \"Death 1\" gas is stolen from a military base, and damaged in the escape. Who is the thief, why did he steal it, and why did the US military think that creating cannibalistic legions of the living dead would be a good idea? All these questions and more will fail to be answered in Zombi 3....<br /><br />After hiding out at a hotel, the infected thief goes mad from all the green plastecine growing on his face before being tracked down by the army who somewhat foolishly decide the best way to dispose of his corpse will be to burn it, sending \"Death 1\" up into the atmosphere resulting in... zombie birds! Who then attack people and turn them into zombie people!!! (if zombies are cannibals, why don't the zombie birds just attack other birds?)<br /><br />Then we meet our \"heroes\", a trio of horny GIs and a coachload of girls. There's a couple of other guys with them too, but they're not important - NO ONE is important here. You'll be hard pressed to remember anyone's face, let alone their name or find a reason to care about them. They end up hiding out at the same hotel as the thief (\"a week ago this place was buzzing with life, now it's buzzing with flies!\") but there's no escape from the undead.<br /><br />By this point you'll either be completely sucked in or you'll have turned the damned thing off. The script is so appalling even the greatest acting in the world couldn't save it, so it's just as well they have some of the worst - and not just the human characters, the zombie acting here is an all time low. There's no consistancy in how the zombies behave - some shamble about in the time honored style, others engage in full on fist fights or charge around with machettes, not to mention the zombies who are still able to talk (a gimmick that gives the film it's HORRIFYING TWIST ENDING). They die from gunshots to the chest (rather than the head) and even get knocked out by a good left-hook. How can you punch out a zombie???!!!!! In fact the emphasis on badly done 80s action often makes it resemble an episode of V...<br /><br />The zombies also spend a lot of time hiding, seemingly waiting for hours in ridiculous places on the chance some poor sap will pass by and get the fright of their life. They hide in bushes, in garages, in huts, on roofs, in the water, and even underneath pregnant women. At one point a zombie follows a woman up the stairs. To kill and eat her? No! To push her into the water, those zombies and their wacky sense of humour!<br /><br />There is plenty of gore though. Limbs are hacked, wounds ooze green pus, and there's much in the way of flesh eating and people getting their faces mushed in. There's nothing to match the originals eyeball piercing, but if bad make up effects are your bag you won't be let down.<br /><br />All this and I've not even mentioned the awful music, the inexplicable flying zombie head, the scientist whose acting actually manages to stand out as REALLY bad, or the final chilling punchline.... in an ingenious twist on the originals radio station being overrun by zombies, Zombi 3 gives us an actual zombie DJ!! \"He's gone over to their side!\" our escaping hero's cry, before vowing to continue fighting against the undead in a sequel that sadly never came.<br /><br />Zombi 3 is rubbish - it would be no loss to the world if every single print was destroyed and all records of it's existence erased, yet somehow I feel my life is richer for having seen it.<br /><br />Did I say richer? I meant 88 minutes shorter...\n"
     ]
    }
   ],
   "source": [
    "# Random positive review\n",
    "print(data[data['sentiment']=='positive']['review'].sample(1).values[0])\n",
    "\n",
    "# Random negative review\n",
    "print(data[data['sentiment']=='negative']['review'].sample(1).values[0])\n"
   ]
  },
  {
   "cell_type": "code",
   "execution_count": 8,
   "id": "ea8f98c6-3a24-4f08-9b19-6f573f17e840",
   "metadata": {},
   "outputs": [
    {
     "data": {
      "image/png": "[encoded data removed]",
      "text/plain": [
       "<Figure size 640x480 with 1 Axes>"
      ]
     },
     "metadata": {},
     "output_type": "display_data"
    }
   ],
   "source": [
    "data['review_length'] = data['review'].apply(lambda x: len(x.split()))\n",
    "sns.histplot(data['review_length'], bins=50)\n",
    "plt.title('Distribution of Review Lengths')\n",
    "plt.xlabel('Number of Words')\n",
    "plt.show()\n"
   ]
  },
  {
   "cell_type": "markdown",
   "id": "8947bbbc-a1f5-4a74-ac50-cbe71374a131",
   "metadata": {},
   "source": [
    "### text preprocessing"
   ]
  },
  {
   "cell_type": "code",
   "execution_count": 9,
   "id": "8bb2f2bc-5859-474f-8205-bda9397e6027",
   "metadata": {},
   "outputs": [
    {
     "data": {
      "text/html": [
       "<div>\n",
       "<style scoped>\n",
       "    .dataframe tbody tr th:only-of-type {\n",
       "        vertical-align: middle;\n",
       "    }\n",
       "\n",
       "    .dataframe tbody tr th {\n",
       "        vertical-align: top;\n",
       "    }\n",
       "\n",
       "    .dataframe thead th {\n",
       "        text-align: right;\n",
       "    }\n",
       "</style>\n",
       "<table border=\"1\" class=\"dataframe\">\n",
       "  <thead>\n",
       "    <tr style=\"text-align: right;\">\n",
       "      <th></th>\n",
       "      <th>review</th>\n",
       "    </tr>\n",
       "  </thead>\n",
       "  <tbody>\n",
       "    <tr>\n",
       "      <th>0</th>\n",
       "      <td>one of the other reviewers has mentioned that ...</td>\n",
       "    </tr>\n",
       "    <tr>\n",
       "      <th>1</th>\n",
       "      <td>a wonderful little production. &lt;br /&gt;&lt;br /&gt;the...</td>\n",
       "    </tr>\n",
       "    <tr>\n",
       "      <th>2</th>\n",
       "      <td>i thought this was a wonderful way to spend ti...</td>\n",
       "    </tr>\n",
       "    <tr>\n",
       "      <th>3</th>\n",
       "      <td>basically there's a family where a little boy ...</td>\n",
       "    </tr>\n",
       "    <tr>\n",
       "      <th>4</th>\n",
       "      <td>petter mattei's \"love in the time of money\" is...</td>\n",
       "    </tr>\n",
       "  </tbody>\n",
       "</table>\n",
       "</div>"
      ],
      "text/plain": [
       "                                              review\n",
       "0  one of the other reviewers has mentioned that ...\n",
       "1  a wonderful little production. <br /><br />the...\n",
       "2  i thought this was a wonderful way to spend ti...\n",
       "3  basically there's a family where a little boy ...\n",
       "4  petter mattei's \"love in the time of money\" is..."
      ]
     },
     "execution_count": 9,
     "metadata": {},
     "output_type": "execute_result"
    }
   ],
   "source": [
    "# Convert reviews to lowercase\n",
    "data['review'] = data['review'].str.lower()\n",
    "\n",
    "# Check the result\n",
    "data[['review']].head()\n"
   ]
  },
  {
   "cell_type": "code",
   "execution_count": 10,
   "id": "87d26c01-f8a1-4b1a-986c-330c66ff105b",
   "metadata": {},
   "outputs": [
    {
     "data": {
      "text/html": [
       "<div>\n",
       "<style scoped>\n",
       "    .dataframe tbody tr th:only-of-type {\n",
       "        vertical-align: middle;\n",
       "    }\n",
       "\n",
       "    .dataframe tbody tr th {\n",
       "        vertical-align: top;\n",
       "    }\n",
       "\n",
       "    .dataframe thead th {\n",
       "        text-align: right;\n",
       "    }\n",
       "</style>\n",
       "<table border=\"1\" class=\"dataframe\">\n",
       "  <thead>\n",
       "    <tr style=\"text-align: right;\">\n",
       "      <th></th>\n",
       "      <th>review</th>\n",
       "    </tr>\n",
       "  </thead>\n",
       "  <tbody>\n",
       "    <tr>\n",
       "      <th>0</th>\n",
       "      <td>one of the other reviewers has mentioned that ...</td>\n",
       "    </tr>\n",
       "    <tr>\n",
       "      <th>1</th>\n",
       "      <td>a wonderful little production. the filming tec...</td>\n",
       "    </tr>\n",
       "    <tr>\n",
       "      <th>2</th>\n",
       "      <td>i thought this was a wonderful way to spend ti...</td>\n",
       "    </tr>\n",
       "    <tr>\n",
       "      <th>3</th>\n",
       "      <td>basically there's a family where a little boy ...</td>\n",
       "    </tr>\n",
       "    <tr>\n",
       "      <th>4</th>\n",
       "      <td>petter mattei's \"love in the time of money\" is...</td>\n",
       "    </tr>\n",
       "  </tbody>\n",
       "</table>\n",
       "</div>"
      ],
      "text/plain": [
       "                                              review\n",
       "0  one of the other reviewers has mentioned that ...\n",
       "1  a wonderful little production. the filming tec...\n",
       "2  i thought this was a wonderful way to spend ti...\n",
       "3  basically there's a family where a little boy ...\n",
       "4  petter mattei's \"love in the time of money\" is..."
      ]
     },
     "execution_count": 10,
     "metadata": {},
     "output_type": "execute_result"
    }
   ],
   "source": [
    "import re\n",
    "\n",
    "# Remove HTML tags\n",
    "data['review'] = data['review'].apply(lambda x: re.sub(r'<.*?>', '', x))\n",
    "\n",
    "# Check the result\n",
    "data[['review']].head()\n"
   ]
  },
  {
   "cell_type": "code",
   "execution_count": 11,
   "id": "f2dcf4b1-4a1f-4341-b3d0-aabd2d9f47c2",
   "metadata": {},
   "outputs": [
    {
     "data": {
      "text/html": [
       "<div>\n",
       "<style scoped>\n",
       "    .dataframe tbody tr th:only-of-type {\n",
       "        vertical-align: middle;\n",
       "    }\n",
       "\n",
       "    .dataframe tbody tr th {\n",
       "        vertical-align: top;\n",
       "    }\n",
       "\n",
       "    .dataframe thead th {\n",
       "        text-align: right;\n",
       "    }\n",
       "</style>\n",
       "<table border=\"1\" class=\"dataframe\">\n",
       "  <thead>\n",
       "    <tr style=\"text-align: right;\">\n",
       "      <th></th>\n",
       "      <th>review</th>\n",
       "    </tr>\n",
       "  </thead>\n",
       "  <tbody>\n",
       "    <tr>\n",
       "      <th>0</th>\n",
       "      <td>one of the other reviewers has mentioned that ...</td>\n",
       "    </tr>\n",
       "    <tr>\n",
       "      <th>1</th>\n",
       "      <td>a wonderful little production the filming tech...</td>\n",
       "    </tr>\n",
       "    <tr>\n",
       "      <th>2</th>\n",
       "      <td>i thought this was a wonderful way to spend ti...</td>\n",
       "    </tr>\n",
       "    <tr>\n",
       "      <th>3</th>\n",
       "      <td>basically theres a family where a little boy j...</td>\n",
       "    </tr>\n",
       "    <tr>\n",
       "      <th>4</th>\n",
       "      <td>petter matteis love in the time of money is a ...</td>\n",
       "    </tr>\n",
       "  </tbody>\n",
       "</table>\n",
       "</div>"
      ],
      "text/plain": [
       "                                              review\n",
       "0  one of the other reviewers has mentioned that ...\n",
       "1  a wonderful little production the filming tech...\n",
       "2  i thought this was a wonderful way to spend ti...\n",
       "3  basically theres a family where a little boy j...\n",
       "4  petter matteis love in the time of money is a ..."
      ]
     },
     "execution_count": 11,
     "metadata": {},
     "output_type": "execute_result"
    }
   ],
   "source": [
    "# Remove non-alphabetic characters (keep only letters and spaces)\n",
    "data['review'] = data['review'].apply(lambda x: re.sub(r'[^a-zA-Z\\s]', '', x))\n",
    "\n",
    "# Check the result\n",
    "data[['review']].head()\n"
   ]
  },
  {
   "cell_type": "code",
   "execution_count": 12,
   "id": "b029ffba-5b07-4597-98eb-6a1461e9d279",
   "metadata": {},
   "outputs": [
    {
     "name": "stderr",
     "output_type": "stream",
     "text": [
      "[nltk_data] Downloading package stopwords to\n",
      "[nltk_data]     /Users/shanuja/nltk_data...\n",
      "[nltk_data]   Package stopwords is already up-to-date!\n"
     ]
    },
    {
     "data": {
      "text/html": [
       "<div>\n",
       "<style scoped>\n",
       "    .dataframe tbody tr th:only-of-type {\n",
       "        vertical-align: middle;\n",
       "    }\n",
       "\n",
       "    .dataframe tbody tr th {\n",
       "        vertical-align: top;\n",
       "    }\n",
       "\n",
       "    .dataframe thead th {\n",
       "        text-align: right;\n",
       "    }\n",
       "</style>\n",
       "<table border=\"1\" class=\"dataframe\">\n",
       "  <thead>\n",
       "    <tr style=\"text-align: right;\">\n",
       "      <th></th>\n",
       "      <th>review</th>\n",
       "    </tr>\n",
       "  </thead>\n",
       "  <tbody>\n",
       "    <tr>\n",
       "      <th>0</th>\n",
       "      <td>one reviewers mentioned watching oz episode yo...</td>\n",
       "    </tr>\n",
       "    <tr>\n",
       "      <th>1</th>\n",
       "      <td>wonderful little production filming technique ...</td>\n",
       "    </tr>\n",
       "    <tr>\n",
       "      <th>2</th>\n",
       "      <td>thought wonderful way spend time hot summer we...</td>\n",
       "    </tr>\n",
       "    <tr>\n",
       "      <th>3</th>\n",
       "      <td>basically theres family little boy jake thinks...</td>\n",
       "    </tr>\n",
       "    <tr>\n",
       "      <th>4</th>\n",
       "      <td>petter matteis love time money visually stunni...</td>\n",
       "    </tr>\n",
       "  </tbody>\n",
       "</table>\n",
       "</div>"
      ],
      "text/plain": [
       "                                              review\n",
       "0  one reviewers mentioned watching oz episode yo...\n",
       "1  wonderful little production filming technique ...\n",
       "2  thought wonderful way spend time hot summer we...\n",
       "3  basically theres family little boy jake thinks...\n",
       "4  petter matteis love time money visually stunni..."
      ]
     },
     "execution_count": 12,
     "metadata": {},
     "output_type": "execute_result"
    }
   ],
   "source": [
    "import nltk\n",
    "nltk.download('stopwords')\n",
    "from nltk.corpus import stopwords\n",
    "\n",
    "stop_words = set(stopwords.words('english'))\n",
    "\n",
    "# Remove stopwords\n",
    "data['review'] = data['review'].apply(lambda x: ' '.join([word for word in x.split() if word not in stop_words]))\n",
    "\n",
    "# Check the result\n",
    "data[['review']].head()\n"
   ]
  },
  {
   "cell_type": "code",
   "execution_count": 13,
   "id": "dbb13814-babc-4f68-8b81-f571977cc1ff",
   "metadata": {},
   "outputs": [
    {
     "data": {
      "text/html": [
       "<div>\n",
       "<style scoped>\n",
       "    .dataframe tbody tr th:only-of-type {\n",
       "        vertical-align: middle;\n",
       "    }\n",
       "\n",
       "    .dataframe tbody tr th {\n",
       "        vertical-align: top;\n",
       "    }\n",
       "\n",
       "    .dataframe thead th {\n",
       "        text-align: right;\n",
       "    }\n",
       "</style>\n",
       "<table border=\"1\" class=\"dataframe\">\n",
       "  <thead>\n",
       "    <tr style=\"text-align: right;\">\n",
       "      <th></th>\n",
       "      <th>review</th>\n",
       "      <th>sentiment</th>\n",
       "      <th>review_length</th>\n",
       "    </tr>\n",
       "  </thead>\n",
       "  <tbody>\n",
       "    <tr>\n",
       "      <th>0</th>\n",
       "      <td>one reviewers mentioned watching oz episode yo...</td>\n",
       "      <td>positive</td>\n",
       "      <td>307</td>\n",
       "    </tr>\n",
       "    <tr>\n",
       "      <th>1</th>\n",
       "      <td>wonderful little production filming technique ...</td>\n",
       "      <td>positive</td>\n",
       "      <td>162</td>\n",
       "    </tr>\n",
       "    <tr>\n",
       "      <th>2</th>\n",
       "      <td>thought wonderful way spend time hot summer we...</td>\n",
       "      <td>positive</td>\n",
       "      <td>166</td>\n",
       "    </tr>\n",
       "    <tr>\n",
       "      <th>3</th>\n",
       "      <td>basically theres family little boy jake thinks...</td>\n",
       "      <td>negative</td>\n",
       "      <td>138</td>\n",
       "    </tr>\n",
       "    <tr>\n",
       "      <th>4</th>\n",
       "      <td>petter matteis love time money visually stunni...</td>\n",
       "      <td>positive</td>\n",
       "      <td>230</td>\n",
       "    </tr>\n",
       "  </tbody>\n",
       "</table>\n",
       "</div>"
      ],
      "text/plain": [
       "                                              review sentiment  review_length\n",
       "0  one reviewers mentioned watching oz episode yo...  positive            307\n",
       "1  wonderful little production filming technique ...  positive            162\n",
       "2  thought wonderful way spend time hot summer we...  positive            166\n",
       "3  basically theres family little boy jake thinks...  negative            138\n",
       "4  petter matteis love time money visually stunni...  positive            230"
      ]
     },
     "execution_count": 13,
     "metadata": {},
     "output_type": "execute_result"
    }
   ],
   "source": [
    "data.head()"
   ]
  },
  {
   "cell_type": "markdown",
   "id": "0004cbc1-0635-4060-a98d-a5c54b7a0334",
   "metadata": {},
   "source": [
    "### 4. Feature Extraction"
   ]
  },
  {
   "cell_type": "code",
   "execution_count": 14,
   "id": "079473ff-4be4-47d5-b804-50bf833f3259",
   "metadata": {},
   "outputs": [
    {
     "name": "stdout",
     "output_type": "stream",
     "text": [
      "TF-IDF Shape: (50000, 5000)\n"
     ]
    }
   ],
   "source": [
    "from sklearn.feature_extraction.text import TfidfVectorizer\n",
    "\n",
    "# Initialize TF-IDF Vectorizer\n",
    "tfidf = TfidfVectorizer(max_features=5000)\n",
    "X_tfidf = tfidf.fit_transform(data['review']).toarray()\n",
    "\n",
    "print(\"TF-IDF Shape:\", X_tfidf.shape)\n"
   ]
  },
  {
   "cell_type": "code",
   "execution_count": 15,
   "id": "9fbf1603-f11c-400a-9e92-94a25b299fae",
   "metadata": {},
   "outputs": [
    {
     "name": "stdout",
     "output_type": "stream",
     "text": [
      "Classes: ['negative' 'positive']\n",
      "Encoded Labels: [1 1 1 0 1]\n"
     ]
    }
   ],
   "source": [
    "from sklearn.preprocessing import LabelEncoder\n",
    "\n",
    "# Encode sentiment column\n",
    "le = LabelEncoder()\n",
    "y = le.fit_transform(data['sentiment'])  # 1 = positive, 0 = negative\n",
    "\n",
    "print(\"Classes:\", le.classes_)\n",
    "print(\"Encoded Labels:\", y[:5])\n"
   ]
  },
  {
   "cell_type": "markdown",
   "id": "7954b605-8c1a-4064-91b3-749ee9734a53",
   "metadata": {},
   "source": [
    "### model train and evaluation"
   ]
  },
  {
   "cell_type": "code",
   "execution_count": 16,
   "id": "ab3f5b3a-d578-42f3-a934-ab1d1693e6db",
   "metadata": {},
   "outputs": [],
   "source": [
    "from sklearn.model_selection import train_test_split\n",
    "\n",
    "# Use TF-IDF features (recommended)\n",
    "X_train, X_test, y_train, y_test = train_test_split(\n",
    "    X_tfidf, y, test_size=0.2, random_state=42, stratify=y\n",
    ")\n"
   ]
  },
  {
   "cell_type": "code",
   "execution_count": 17,
   "id": "6b611d7e-e264-42e3-9beb-2af80e1d29fa",
   "metadata": {},
   "outputs": [
    {
     "name": "stdout",
     "output_type": "stream",
     "text": [
      "Logistic Regression Accuracy: 0.8877\n",
      "              precision    recall  f1-score   support\n",
      "\n",
      "           0       0.90      0.88      0.89      5000\n",
      "           1       0.88      0.90      0.89      5000\n",
      "\n",
      "    accuracy                           0.89     10000\n",
      "   macro avg       0.89      0.89      0.89     10000\n",
      "weighted avg       0.89      0.89      0.89     10000\n",
      "\n"
     ]
    }
   ],
   "source": [
    "from sklearn.linear_model import LogisticRegression\n",
    "from sklearn.metrics import accuracy_score, classification_report, confusion_matrix\n",
    "\n",
    "# Train Logistic Regression\n",
    "log_reg = LogisticRegression(max_iter=2000)\n",
    "log_reg.fit(X_train, y_train)\n",
    "\n",
    "# Predict\n",
    "y_pred_lr = log_reg.predict(X_test)\n",
    "\n",
    "# Evaluate\n",
    "print(\"Logistic Regression Accuracy:\", accuracy_score(y_test, y_pred_lr))\n",
    "print(classification_report(y_test, y_pred_lr))\n"
   ]
  },
  {
   "cell_type": "code",
   "execution_count": 18,
   "id": "95b0e771-d547-4c6f-a610-bf1785770fd5",
   "metadata": {},
   "outputs": [
    {
     "data": {
      "image/png": "[encoded data removed]",
      "text/plain": [
       "<Figure size 600x400 with 2 Axes>"
      ]
     },
     "metadata": {},
     "output_type": "display_data"
    }
   ],
   "source": [
    "import seaborn as sns\n",
    "import matplotlib.pyplot as plt\n",
    "from sklearn.metrics import confusion_matrix\n",
    "\n",
    "cm = confusion_matrix(y_test, y_pred_lr)\n",
    "\n",
    "plt.figure(figsize=(6,4))\n",
    "sns.heatmap(cm, annot=True, fmt='d', cmap='Blues', xticklabels=[\"Negative\",\"Positive\"], yticklabels=[\"Negative\",\"Positive\"])\n",
    "plt.xlabel(\"Predicted\")\n",
    "plt.ylabel(\"Actual\")\n",
    "plt.title(\"Logistic Regression Confusion Matrix\")\n",
    "plt.show()\n"
   ]
  },
  {
   "cell_type": "code",
   "execution_count": 19,
   "id": "339ab5ee-d83a-4c78-83a3-744183886925",
   "metadata": {},
   "outputs": [
    {
     "name": "stdout",
     "output_type": "stream",
     "text": [
      "Naive Bayes Accuracy: 0.8545\n",
      "              precision    recall  f1-score   support\n",
      "\n",
      "           0       0.86      0.85      0.85      5000\n",
      "           1       0.85      0.86      0.86      5000\n",
      "\n",
      "    accuracy                           0.85     10000\n",
      "   macro avg       0.85      0.85      0.85     10000\n",
      "weighted avg       0.85      0.85      0.85     10000\n",
      "\n"
     ]
    }
   ],
   "source": [
    "from sklearn.naive_bayes import MultinomialNB\n",
    "\n",
    "# Train Naive Bayes\n",
    "nb = MultinomialNB()\n",
    "nb.fit(X_train, y_train)\n",
    "\n",
    "# Predict\n",
    "y_pred_nb = nb.predict(X_test)\n",
    "\n",
    "# Evaluate\n",
    "print(\"Naive Bayes Accuracy:\", accuracy_score(y_test, y_pred_nb))\n",
    "print(classification_report(y_test, y_pred_nb))\n"
   ]
  },
  {
   "cell_type": "code",
   "execution_count": 20,
   "id": "51c1a9ce-0627-4721-8c6e-a490ad5426f1",
   "metadata": {},
   "outputs": [
    {
     "data": {
      "text/plain": [
       "['logistic_model.pkl']"
      ]
     },
     "execution_count": 20,
     "metadata": {},
     "output_type": "execute_result"
    }
   ],
   "source": [
    "import joblib\n",
    "joblib.dump(log_reg, 'logistic_model.pkl')"
   ]
  },
  {
   "cell_type": "code",
   "execution_count": 21,
   "id": "4aed11d3-3852-4820-82fd-b5eb4a55eb91",
   "metadata": {},
   "outputs": [
    {
     "data": {
      "text/plain": [
       "['tfidf_vectorizer.pkl']"
      ]
     },
     "execution_count": 21,
     "metadata": {},
     "output_type": "execute_result"
    }
   ],
   "source": [
    "joblib.dump(tfidf, 'tfidf_vectorizer.pkl')"
   ]
  },
  {
   "cell_type": "code",
   "execution_count": 22,
   "id": "94ad702c-7289-43c3-8501-e0a9fbf4c004",
   "metadata": {},
   "outputs": [
    {
     "data": {
      "text/plain": [
       "['naive_bayes_model.pkl']"
      ]
     },
     "execution_count": 22,
     "metadata": {},
     "output_type": "execute_result"
    }
   ],
   "source": [
    "joblib.dump(nb, \"naive_bayes_model.pkl\")"
   ]
  },
  {
   "cell_type": "code",
   "execution_count": 23,
   "id": "5fcc4b0f-7e73-43df-b696-a9ffdedf76e5",
   "metadata": {},
   "outputs": [
    {
     "name": "stdout",
     "output_type": "stream",
     "text": [
      "Predicted Sentiment: 0\n"
     ]
    }
   ],
   "source": [
    "log_reg = joblib.load('logistic_model.pkl')\n",
    "tfidf_vectorizer = joblib.load('tfidf_vectorizer.pkl')\n",
    "\n",
    "sample = [\"ohhhh\"]\n",
    "X_sample = tfidf_vectorizer.transform(sample)\n",
    "prediction = log_reg.predict(X_sample)\n",
    "\n",
    "print(\"Predicted Sentiment:\", prediction[0])"
   ]
  },
  {
   "cell_type": "code",
   "execution_count": null,
   "id": "5fbd4331",
   "metadata": {},
   "outputs": [],
   "source": []
  },
  {
   "cell_type": "code",
   "execution_count": null,
   "id": "7ea2b48f-cf30-4669-89cb-ede9bf47be44",
   "metadata": {},
   "outputs": [],
   "source": []
  }
 ],
 "metadata": {
  "kernelspec": {
   "display_name": "Python 3 (ipykernel)",
   "language": "python",
   "name": "python3"
  },
  "language_info": {
   "codemirror_mode": {
    "name": "ipython",
    "version": 3
   },
   "file_extension": ".py",
   "mimetype": "text/x-python",
   "name": "python",
   "nbconvert_exporter": "python",
   "pygments_lexer": "ipython3",
   "version": "3.12.2"
  }
 },
 "nbformat": 4,
 "nbformat_minor": 5
}
